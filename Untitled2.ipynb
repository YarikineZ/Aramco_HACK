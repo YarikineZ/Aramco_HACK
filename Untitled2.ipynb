{
  "nbformat": 4,
  "nbformat_minor": 0,
  "metadata": {
    "colab": {
      "name": "Untitled2.ipynb",
      "provenance": [],
      "include_colab_link": true
    },
    "kernelspec": {
      "name": "python3",
      "display_name": "Python 3"
    }
  },
  "cells": [
    {
      "cell_type": "markdown",
      "metadata": {
        "id": "view-in-github",
        "colab_type": "text"
      },
      "source": [
        "<a href=\"https://colab.research.google.com/github/YarikineZ/Aramco_HACK/blob/master/Untitled2.ipynb\" target=\"_parent\"><img src=\"https://colab.research.google.com/assets/colab-badge.svg\" alt=\"Open In Colab\"/></a>"
      ]
    },
    {
      "cell_type": "code",
      "metadata": {
        "id": "ebhSaOZ6z0pf",
        "colab_type": "code",
        "colab": {}
      },
      "source": [
        "from scipy.optimize import fsolve \n",
        "from sympy import Symbol, nsolve \n",
        "import sympy \n",
        "import mpmath \n",
        "import math \n",
        "v=343"
      ],
      "execution_count": 0,
      "outputs": []
    },
    {
      "cell_type": "code",
      "metadata": {
        "id": "ip4gB1nmwXs0",
        "colab_type": "code",
        "colab": {}
      },
      "source": [
        "from sympy import Symbol, nsolve \n",
        "v=343 \n",
        "def findCoord(dt01, dt02, dt12, x0, y0, x1, y1, x2, y2): \n",
        "    mpmath.mp.dps = 15 \n",
        "    x = Symbol('x') \n",
        "    y = Symbol('y') \n",
        "    Eq01 = ((x-x0)**2+(y-y0)**2)**(1/2)-((x-x1)**2+(y-y1)**2)**(1/2) - v*dt01 \n",
        "    Eq02 = ((x-x0)**2+(y-y0)**2)**(1/2)-((x2-x)**2+(y2-y)**2)**(1/2) - v*dt02 \n",
        "    Eq12 = ((x-x1)**2+(y-y1)**2)**(1/2)-((x2-x)**2+(y2-y)**2)**(1/2) - v*dt12 \n",
        "    XX=[0,0,0] \n",
        "    YY=[0,0,0] \n",
        "    EQ = [Eq01, Eq02, Eq12] \n",
        "    count=0 \n",
        "    for i in range(3): \n",
        "        for j in range(i,3): \n",
        "            if i!=j:     \n",
        "                S = nsolve((EQ[i], EQ[j]), (x, y), (5, 5)) \n",
        "                XX[count]=S[0] \n",
        "                YY[count]=S[1] \n",
        "                count=count+1 \n",
        "    return XX,YY"
      ],
      "execution_count": 0,
      "outputs": []
    },
    {
      "cell_type": "code",
      "metadata": {
        "id": "BuHAjCtUwbad",
        "colab_type": "code",
        "colab": {
          "base_uri": "https://localhost:8080/",
          "height": 884
        },
        "outputId": "15c04595-a710-4f48-97c7-04b591396a8f"
      },
      "source": [
        "xx=2 \n",
        "yy=2\n",
        " \n",
        " \n",
        " \n",
        "X = [0, 0, 10, 10, 0] \n",
        "Y = [0, 10, 10, 0, 5] \n",
        "t0=math.sqrt((X[0]-xx)**2+(Y[0]-yy)**2)/v \n",
        "t1=math.sqrt((X[1]-xx)**2+(Y[1]-yy)**2)/v \n",
        "t2=math.sqrt((X[2]-xx)**2+(Y[2]-yy)**2)/v \n",
        "t3=math.sqrt((X[3]-xx)**2+(Y[3]-yy)**2)/v \n",
        "t4=math.sqrt((X[4]-xx)**2+(Y[4]-yy)**2)/v \n",
        "T = [t0, t1, t2, t3, t4] \n",
        "count = 0 \n",
        "for i in range(5): \n",
        "    for j in range(i,5): \n",
        "        for k in range(j,5): \n",
        "            if i!=j and j!=k and i!=k: \n",
        "                print(i,j,k) \n",
        "                print(T[i],T[j],T[k]) \n",
        "                print(X[i],X[j],X[k]) \n",
        "                print(Y[i],Y[j],Y[k]) \n",
        "                print(findCoord((T[i]-T[j]), (T[i]-T[k]), (T[j]-T[k]), X[i], Y[i], X[j], Y[j], X[k], Y[k])) \n",
        "                count=count+1 \n",
        "                 \n",
        "print(count)"
      ],
      "execution_count": 7,
      "outputs": [
        {
          "output_type": "stream",
          "text": [
            "0 1 2\n",
            "0.008246143220834374 0.02404143221934496 0.0329845728833375\n",
            "0 0 10\n",
            "0 10 10\n",
            "([2.00000000000000, 2.00000000000000, 2.00000000000000], [2.00000000000000, 2.00000000000000, 2.00000000000000])\n",
            "0 1 3\n",
            "0.008246143220834374 0.02404143221934496 0.02404143221934496\n",
            "0 0 10\n",
            "0 10 0\n",
            "([2.00000000000000, 2.00000000000000, 2.00000000000000], [2.00000000000000, 2.00000000000000, 2.00000000000000])\n",
            "0 1 4\n",
            "0.008246143220834374 0.02404143221934496 0.010511811298728831\n",
            "0 0 0\n",
            "0 10 5\n",
            "([2.00000000000000, 2.00000000000000, 2.00000000000000], [2.00000000000000, 2.00000000000000, 2.00000000000000])\n",
            "0 2 3\n",
            "0.008246143220834374 0.0329845728833375 0.02404143221934496\n",
            "0 10 10\n",
            "0 10 0\n",
            "([2.00000000000000, 2.00000000000000, 2.00000000000000], [2.00000000000000, 2.00000000000000, 2.00000000000000])\n",
            "0 2 4\n",
            "0.008246143220834374 0.0329845728833375 0.010511811298728831\n",
            "0 10 0\n",
            "0 10 5\n",
            "([2.00000000000000, 2.00000000000000, 2.00000000000000], [2.00000000000000, 2.00000000000000, 2.00000000000000])\n",
            "0 3 4\n",
            "0.008246143220834374 0.02404143221934496 0.010511811298728831\n",
            "0 10 0\n",
            "0 0 5\n",
            "([2.00000000000000, 2.00000000000000, 2.00000000000000], [2.00000000000000, 2.00000000000000, 2.00000000000000])\n",
            "1 2 3\n",
            "0.02404143221934496 0.0329845728833375 0.02404143221934496\n",
            "0 10 10\n",
            "10 10 0\n",
            "([2.00000000000000, 2.00000000000000, 2.00000000000000], [2.00000000000000, 2.00000000000000, 2.00000000000000])\n",
            "1 2 4\n",
            "0.02404143221934496 0.0329845728833375 0.010511811298728831\n",
            "0 10 0\n",
            "10 10 5\n",
            "([2.00000000000000, 2.00000000000000, 2.00000000000000], [2.00000000000000, 1.99999999999999, 2.00000000000000])\n",
            "1 3 4\n",
            "0.02404143221934496 0.02404143221934496 0.010511811298728831\n",
            "0 10 0\n",
            "10 0 5\n",
            "([2.00000000000000, 2.00000000000000, 2.00000000000000], [2.00000000000000, 2.00000000000000, 2.00000000000000])\n",
            "2 3 4\n",
            "0.0329845728833375 0.02404143221934496 0.010511811298728831\n",
            "10 10 0\n",
            "10 0 5\n",
            "([2.00000000000000, 2.00000000000000, 2.00000000000000], [2.00000000000000, 2.00000000000000, 2.00000000000000])\n",
            "10\n"
          ],
          "name": "stdout"
        }
      ]
    },
    {
      "cell_type": "code",
      "metadata": {
        "id": "YFacyvemwnW8",
        "colab_type": "code",
        "colab": {}
      },
      "source": [
        ""
      ],
      "execution_count": 0,
      "outputs": []
    }
  ]
}